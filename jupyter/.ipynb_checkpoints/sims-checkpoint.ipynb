{
 "cells": [
  {
   "cell_type": "markdown",
   "metadata": {},
   "source": [
    "## Rough Nozzle Calculations\n",
    "\n",
    "---\n",
    "\n",
    "The following is designed to estimate the thrust of an optimally\n",
    "extended nozzle based on input parameters from the run tank.\n",
    "\n",
    "Assume that the exhaust gas of the engine is standard air. Thus the\n",
    "system can be modelled according to the following constants from the\n",
    "following sources and the appropriate error.\n",
    "\n",
    "$$F(P_e) = q V_e + (P_e - P_a) A_e$$\n",
    "\n",
    "For ideal thrust, Pe = Pa!!\n",
    "\n",
    "|  Variable  | Identity                       | Units                   |\n",
    "|------------|--------------------------------|-------------------------|\n",
    "| $q$        | Propellant mass flow rate      | kg/s                    |\n",
    "| $T_c$      | Combustion chamber temperature | K                       |\n",
    "| $P_c$      | Combustion chamber pressure    | MPa                     |\n",
    "| $P_a$      | Ambient pressure               | MPa                     |\n",
    "| $P_e$      | Pressure at exit               | MPa                     |\n",
    "| $k$        | Specific heat ratio            | Unitless                |\n",
    "| $M$        | Molecular mass                 | something * g/mol       |\n",
    "| $R$        | Universal gas constant         | m^2 kg s^-2 K^-1 mol^-1 |\n",
    "\n",
    "Ratios of Specific Heat of Gases:\n",
    "\n",
    "https://www.engineeringtoolbox.com/specific-heat-ratio-d_608.html\n",
    "\n",
    "Molecular Weight of Air:\n",
    "\n",
    "https://www.engineeringtoolbox.com/molecular-mass-air-d_679.html\n",
    "\n",
    "SymPy Documentation:\n",
    "\n",
    "https://docs.sympy.org/latest/index.html\n",
    "\n",
    "Notebook based on:\n",
    "\n",
    "http://braeunig.us/space/sup1.htm"
   ]
  },
  {
   "cell_type": "code",
   "execution_count": 4,
   "metadata": {},
   "outputs": [],
   "source": [
    "import matplotlib.pyplot as plt\n",
    "import numpy as np\n",
    "import pandas as pd\n",
    "import scipy.optimize as opt\n",
    "import sympy as sp\n",
    "import scipy\n",
    "\n",
    "# Variable Terms (With Error)\n",
    "\n",
    "q = 100; dq = 5 # Propellent mass flow rate [kg/s] **Placeholder**\n",
    "Tc = 3600; dTc = 100 # Combustion chamber temperature [K] **Placeholder**\n",
    "Pc = 5; dPc = 1 # Combustion chamber pressure [MPa]  **Placeholder**\n",
    "Pa = 0.05; dPa = 0.01 # Ambient pressure [MPa] **Placeholder**\n",
    "Pe = 0.05; dPe = 0.01 # Pressure at exit [MPa]\n",
    "\n",
    "# Constant Terms (Without Error)\n",
    "\n",
    "k = 1.20 # Specific heat ratio\n",
    "M = 24 # Molecular mass [g/mol]\n",
    "R = 8314 # Gas Constant [m^2 kg s^-2 K^-1 mol^-1]"
   ]
  },
  {
   "cell_type": "markdown",
   "metadata": {},
   "source": [
    "If the nozzle is properly adapted to the operating conditions we have \n",
    "Pe=Pa, or Pe=0.05 MPa. \n",
    "\n",
    "The gas pressure and temperature at the nozzle throat is less than in \n",
    "the combustion chamber due to the loss of thermal energy in accelerating \n",
    "the gas to the local speed of sound at the throat. Therefore, we \n",
    "calculate the pressure and temperature at the nozzle throat \n",
    "\n",
    "**Personal notes regarding calculating error (because I'm bad at sympy):**\n",
    "* 's' prefix indicates a symbol. Something that will be substituted in with a value.\n",
    "* 'e' prefix indicates an expression.\n",
    "* Numbers without any prefix are float values"
   ]
  },
  {
   "cell_type": "code",
   "execution_count": 5,
   "metadata": {},
   "outputs": [
    {
     "name": "stdout",
     "output_type": "stream",
     "text": [
      "Throat pressure: 2822369.650 +/- 564473.930 N/m^2\n",
      "Throat temperature: 3272.727 +/- 90.909 K\n"
     ]
    }
   ],
   "source": [
    "# Numerical evaluation\n",
    "\n",
    "Pt = Pc * (1 + (k - 1) / 2) ** (-k / (k-1)) * 1e6\n",
    "Tt = Tc * (1 / (1 + (k - 1) / 2))\n",
    "\n",
    "# Evaluating uncertainties (Ugly)\n",
    "\n",
    "sPc, sTc, sk = sp.symbols('sPc sTc sk')\n",
    "ePt = sPc * (1 + (sk - 1) / 2) ** (-sk / (sk-1))\n",
    "eTt = sTc * (1 / (1 + (sk - 1) / 2))\n",
    "\n",
    "edPt = sp.sqrt((sp.diff(ePt, sPc) * dPc)**2)\n",
    "edTt = sp.sqrt((sp.diff(eTt, sTc) * dTc)**2)\n",
    "\n",
    "dPt = edPt.evalf(subs={sk: k}) * 1e6\n",
    "dTt = edTt.evalf(subs={sk: k})\n",
    "               \n",
    "print('Throat pressure: %.3f +/- %.3f N/m^2' % (Pt, dPt))\n",
    "print('Throat temperature: %.3f +/- %.3f K' % (Tt, dTt))"
   ]
  },
  {
   "cell_type": "markdown",
   "metadata": {},
   "source": [
    "Now we can calculate the area of the nozzle's throat."
   ]
  },
  {
   "cell_type": "code",
   "execution_count": 7,
   "metadata": {},
   "outputs": [
    {
     "name": "stdout",
     "output_type": "stream",
     "text": [
      "Throat area: 0.034 +/- 0.007 m^2\n",
      "Throat diameter: 0.209 +/- 0.022 m\n"
     ]
    }
   ],
   "source": [
    "# Numerical evaluation\n",
    "\n",
    "At = (q / Pt) * np.sqrt((R * Tt) / (M * k))\n",
    "Dt = np.sqrt((4 * At) / (np.pi))\n",
    "\n",
    "# Evaluating uncertainties\n",
    "\n",
    "sPt, sTt, sq, sR, sM, sAt = sp.symbols('sPt sTt sq sR sM sAt')\n",
    "\n",
    "eAt = (sq / sPt) * sp.sqrt((sR * sTt) / (sM * sk))\n",
    "edAt = sp.sqrt((sp.diff(eAt, sq) * dq)**2 + (sp.diff(eAt, sPt) * dPt)**2 + (sp.diff(eAt, sTt) * dTt)**2)\n",
    "\n",
    "dAt = edAt.evalf(subs={sq: q, sPt: Pt, sR: R, sTt: Tt, sM: M, sk: k})\n",
    "\n",
    "eDt = sp.sqrt((4 * sAt) / sp.pi)\n",
    "edDt = sp.sqrt((sp.diff(eDt, sAt) * dAt)**2)\n",
    "\n",
    "dDt = edDt.evalf(subs={sAt: At})\n",
    "\n",
    "print('Throat area: %.3f +/- %.3f m^2' % (At, dAt))\n",
    "print('Throat diameter: %.3f +/- %.3f m' % (Dt, dDt))"
   ]
  },
  {
   "cell_type": "markdown",
   "metadata": {},
   "source": [
    "We can consider the parameters of the nozzle's exit area\n",
    "including exit velocity and output velocity.\n",
    "\n",
    "Note that this is the first place that Pe comes into play.\n",
    "\n",
    "\n",
    "*Existing SymPy variables:*\n",
    "\n",
    "sPc, sTc, sk, sPt, sTt, sq, sR, sM, sAt"
   ]
  },
  {
   "cell_type": "code",
   "execution_count": 8,
   "metadata": {},
   "outputs": [
    {
     "name": "stdout",
     "output_type": "stream",
     "text": [
      "Exit velocity: Mach 3.398 +/- 0.149\n",
      "Exit area: 0.409 +/- 0.122\n",
      "Exit velocity: 2831.779 +/- 69.926 m/s\n",
      "Thrust: 283177.850 +/- 15791.475 m/s\n"
     ]
    }
   ],
   "source": [
    "# Numerical evaluation\n",
    "\n",
    "m = np.sqrt((2 / (k - 1)) * ((Pc / Pa)**((k-1)/k) - 1))\n",
    "Ae = (At / m) * ((1 + (k - 1) / 2 * m**2)/((k + 1) / 2))**((k+1)/(2*(k-1)))\n",
    "Ve = np.sqrt((2 * k / (k - 1)) * (R * Tc / M) * (1 - (Pe / Pc)**((k-1)/k)))\n",
    "F = q * Ve + (Pe - Pa) * Ae\n",
    "\n",
    "# Evaluating uncertainties\n",
    "\n",
    "sPa, sm, sVe, sPe, sAe = sp.symbols('sPa sm sVe sPe sAe')\n",
    "\n",
    "em = sp.sqrt((2 / (sk - 1)) * ((sPc / sPa)**((sk-1)/sk) - 1))\n",
    "edm = sp.sqrt((sp.diff(em, sPc) * dPc)**2 + (sp.diff(em, sPa) * dPa)**2)\n",
    "dm = edm.evalf(subs={sk: k, sPc: Pc, sPa: Pa})\n",
    "\n",
    "\n",
    "eAe = (sAt / sm) * ((1 + (sk - 1) / 2 * sm**2)/((sk + 1) / 2))**((sk+1)/(2*(sk-1)))\n",
    "edAe = sp.sqrt((sp.diff(eAe, sAt) * dAt)**2 + (sp.diff(eAe, sm) * dm)**2)\n",
    "dAe = edAe.evalf(subs={sAt: At, sm: m, sk: k})\n",
    "\n",
    "eVe = sp.sqrt((2 * sk / (sk - 1)) * (sR * sTc / sM) * (1 - (sPe / sPc)**((sk-1)/sk)))\n",
    "edVe = sp.sqrt((sp.diff(eVe, sTc) * dTc)**2 + (sp.diff(eVe, sPe) * dPe)**2 + (sp.diff(eVe, sPc) * dPc)**2)\n",
    "dVe = edVe.evalf(subs={sk: k, sR: R, sTc: Tc, sM: M, sPe: Pe, sPc: Pc})\n",
    "\n",
    "eF = sq * sVe + (sPe - sPa) * sAe\n",
    "edF = sp.sqrt((sp.diff(eF, sq) * dq)**2 + (sp.diff(eF, sVe) * dVe)**2 + (sp.diff(eF, sPe) * dPe)**2 + (sp.diff(eF, sPa) * dPa)**2 + (sp.diff(eF, sAe) * dAe)**2)\n",
    "dF = edF.evalf(subs={sq: q, sVe: Ve, sPe: Pe, sPa: Pa, sAe: Ae})\n",
    "\n",
    "print('Exit velocity: Mach %.3f +/- %.3f' % (m, dm))\n",
    "print('Exit area: %.3f +/- %.3f' % (Ae, dAe))\n",
    "print('Exit velocity: %.3f +/- %.3f m/s' % (Ve, dVe))\n",
    "print('Thrust: %.3f +/- %.3f m/s' % (F, dF))"
   ]
  },
  {
   "cell_type": "markdown",
   "metadata": {},
   "source": [
    "## Copy-Pastable Function\n",
    "\n",
    "---\n",
    "\n",
    "Below is an implementation of the above code in the form of a function that takes an array as input. The array should be formatted as follows:\n",
    "\n",
    "~~~\n",
    "input = [q, dq, Tc, dTc, Pc, dPc, Pa, dPa, Pe, dPe, k, M]\n",
    "~~~\n",
    "\n",
    "**!!! IN THIS ORDER AND NO OTHER !!!**\n",
    "\n",
    "Below, we will graph the function for various values of $P_e$ to verify that we do indeed get maximum thrust when $\\frac{P_e}{P_a}=1$."
   ]
  },
  {
   "cell_type": "code",
   "execution_count": 9,
   "metadata": {},
   "outputs": [],
   "source": [
    "def nozzle_calcs(params, typ='arr'):\n",
    "    R = 8314\n",
    "    \n",
    "    if typ == 'arr':\n",
    "        q = params[0]\n",
    "        dq = params[1]\n",
    "        Tc = params[2]\n",
    "        dTc = params[3]\n",
    "        Pc = params[4] * 1e6\n",
    "        dPc = params[5] * 1e6\n",
    "        Pa = params[6] * 1e6\n",
    "        dPa = params[7] * 1e6\n",
    "        Pe = params[8] * 1e6\n",
    "        dPe = params[9] * 1e6\n",
    "        k = params[10]\n",
    "        M = params[11]\n",
    "        \n",
    "    \n",
    "    # Numerical evaluation\n",
    "    \n",
    "    Pt = Pc * (1 + (k - 1) / 2) ** (-k / (k-1))\n",
    "    Tt = Tc * (1 / (1 + (k - 1) / 2))\n",
    "    \n",
    "    # Evaluating uncertainties (Ugly)\n",
    "    \n",
    "    sPc, sTc, sk = sp.symbols('sPc sTc sk')\n",
    "    ePt = sPc * (1 + (sk - 1) / 2) ** (-sk / (sk-1))\n",
    "    eTt = sTc * (1 / (1 + (sk - 1) / 2))\n",
    "    \n",
    "    edPt = sp.sqrt((sp.diff(ePt, sPc) * dPc)**2)\n",
    "    edTt = sp.sqrt((sp.diff(eTt, sTc) * dTc)**2)\n",
    "    \n",
    "    dPt = edPt.evalf(subs={sk: k})\n",
    "    dTt = edTt.evalf(subs={sk: k})\n",
    "    \n",
    "    # Numerical evaluation\n",
    "\n",
    "    At = (q / Pt) * np.sqrt((R * Tt) / (M * k))\n",
    "    Dt = np.sqrt((4 * At) / (np.pi))\n",
    "    \n",
    "    # Evaluating uncertainties\n",
    "    \n",
    "    sPt, sTt, sq, sR, sM, sAt = sp.symbols('sPt sTt sq sR sM sAt')\n",
    "    \n",
    "    eAt = (sq / sPt) * sp.sqrt((sR * sTt) / (sM * sk))\n",
    "    edAt = sp.sqrt((sp.diff(eAt, sq) * dq)**2 + (sp.diff(eAt, sPt) * dPt)**2 + (sp.diff(eAt, sTt) * dTt)**2)\n",
    "    \n",
    "    dAt = edAt.evalf(subs={sq: q, sPt: Pt, sR: R, sTt: Tt, sM: M, sk: k})\n",
    "    \n",
    "    eDt = sp.sqrt((4 * sAt) / sp.pi)\n",
    "    edDt = sp.sqrt((sp.diff(eDt, sAt) * dAt)**2)\n",
    "    \n",
    "    dDt = edDt.evalf(subs={sAt: At})\n",
    "    \n",
    "    # Numerical evaluation\n",
    "    \n",
    "    m = np.sqrt((2 / (k - 1)) * ((Pc / Pe)**((k-1)/k) - 1))\n",
    "    Ae = (At / m) * ((1 + (k - 1) / 2 * m**2)/((k + 1) / 2))**((k+1)/(2*(k-1)))\n",
    "    Ve = np.sqrt((2 * k / (k - 1)) * (R * Tc / M) * (1 - (Pe / Pc)**((k-1)/k)))\n",
    "    F = q * Ve + (Pe - Pa) * Ae\n",
    "\n",
    "    # Evaluating uncertainties\n",
    "    \n",
    "    sPa, sm, sVe, sPe, sAe = sp.symbols('sPa sm sVe sPe sAe')\n",
    "    \n",
    "    em = sp.sqrt((2 / (sk - 1)) * ((sPc / sPe)**((sk-1)/sk) - 1))\n",
    "    edm = sp.sqrt((sp.diff(em, sPc) * dPc)**2 + (sp.diff(em, sPe) * dPe)**2)\n",
    "    dm = edm.evalf(subs={sk: k, sPc: Pc, sPe: Pe})\n",
    "    \n",
    "    \n",
    "    eAe = (sAt / sm) * ((1 + (sk - 1) / 2 * sm**2)/((sk + 1) / 2))**((sk+1)/(2*(sk-1)))\n",
    "    edAe = sp.sqrt((sp.diff(eAe, sAt) * dAt)**2 + (sp.diff(eAe, sm) * dm)**2)\n",
    "    dAe = edAe.evalf(subs={sAt: At, sm: m, sk: k})\n",
    "    \n",
    "    eVe = sp.sqrt((2 * sk / (sk - 1)) * (sR * sTc / sM) * (1 - (sPe / sPc)**((sk-1)/sk)))\n",
    "    edVe = sp.sqrt((sp.diff(eVe, sTc) * dTc)**2 + (sp.diff(eVe, sPe) * dPe)**2 + (sp.diff(eVe, sPc) * dPc)**2)\n",
    "    dVe = edVe.evalf(subs={sk: k, sR: R, sTc: Tc, sM: M, sPe: Pe, sPc: Pc})\n",
    "    \n",
    "    eF = sq * sVe + (sPe - sPa) * sAe\n",
    "    edF = sp.sqrt((sp.diff(eF, sq) * dq)**2 + (sp.diff(eF, sVe) * dVe)**2 + (sp.diff(eF, sPe) * dPe)**2 + (sp.diff(eF, sPa) * dPa)**2 + (sp.diff(eF, sAe) * dAe)**2)\n",
    "    dF = edF.evalf(subs={sq: q, sVe: Ve, sPe: Pe, sPa: Pa, sAe: Ae})\n",
    "    \n",
    "    params = {\n",
    "        'throat pressure': [Pt, dPt],\n",
    "        'throat temperature': [Tt, dTt],\n",
    "        'throat area' : [At, dAt],\n",
    "        'throat diameter' : [Dt, dDt],\n",
    "        'exit mach' : [m, dm],\n",
    "        'exit area' : [Ae, dAe],\n",
    "        'exit velocity' : [Ve, dVe],\n",
    "        'thrust' : [F, dF]\n",
    "    }\n",
    "    \n",
    "    return params"
   ]
  },
  {
   "cell_type": "code",
   "execution_count": 10,
   "metadata": {},
   "outputs": [
    {
     "name": "stdout",
     "output_type": "stream",
     "text": [
      "[0.025 0.03  0.035 0.04  0.045 0.05  0.055 0.06  0.065 0.07  0.075]\n"
     ]
    },
    {
     "data": {
      "text/plain": [
       "<matplotlib.legend.Legend at 0x7f1d691b46d0>"
      ]
     },
     "execution_count": 10,
     "metadata": {},
     "output_type": "execute_result"
    },
    {
     "data": {
      "image/png": "[encoded data removed]",
      "text/plain": [
       "<Figure size 432x288 with 2 Axes>"
      ]
     },
     "metadata": {
      "needs_background": "light"
     },
     "output_type": "display_data"
    }
   ],
   "source": [
    "pe = np.arange(0.025, 0.08, 0.005)\n",
    "print(pe)\n",
    "\n",
    "t = []\n",
    "dt = []\n",
    "\n",
    "ev = []\n",
    "dev = []\n",
    "\n",
    "rat = []\n",
    "\n",
    "for i in range(len(pe)):\n",
    "    inp = [100, 5, 3600, 100, 5, 1, 0.05, 0.01, pe[i], 0.01, 1.2, 24]\n",
    " \n",
    "    params = nozzle_calcs(inp)\n",
    "\n",
    "    t.append(params['thrust'][0])\n",
    "    dt.append(params['thrust'][1])\n",
    "    \n",
    "    ev.append(params['throat diameter'][0])\n",
    "    dev.append(params['throat diameter'][1])\n",
    "    \n",
    "    rat.append(inp[6] / pe[i])\n",
    "        \n",
    "fig,ax = plt.subplots()\n",
    "        \n",
    "ax.errorbar(rat, t, label='Thrust')\n",
    "ax.set_xlabel(r'Pressure Ratio $\\frac{P_a}{P_e}$', fontsize = 12)\n",
    "ax.set_ylabel(r'Thrust $[N]$')\n",
    "mi,ma = ax.get_ylim()\n",
    "ax.vlines(1.0, mi, ma, linestyle='dotted')\n",
    "\n",
    "ax2=ax.twinx()\n",
    "ax2.errorbar(rat, ev, color='orange', label='Velocity')\n",
    "ax2.set_ylabel(r'Velocity $[m/s]$')\n",
    "\n",
    "fig.suptitle('Nozzle Extension Effect on Thrust')\n",
    "fig.legend()\n"
   ]
  },
  {
   "cell_type": "code",
   "execution_count": 11,
   "metadata": {},
   "outputs": [
    {
     "ename": "TclError",
     "evalue": "no display name and no $DISPLAY environment variable",
     "output_type": "error",
     "traceback": [
      "\u001b[0;31m---------------------------------------------------------------------------\u001b[0m",
      "\u001b[0;31mTclError\u001b[0m                                  Traceback (most recent call last)",
      "\u001b[0;32m<ipython-input-11-a37f0b3dc0aa>\u001b[0m in \u001b[0;36m<module>\u001b[0;34m\u001b[0m\n\u001b[1;32m      1\u001b[0m \u001b[0;32mimport\u001b[0m \u001b[0mturtle\u001b[0m\u001b[0;34m\u001b[0m\u001b[0;34m\u001b[0m\u001b[0m\n\u001b[1;32m      2\u001b[0m \u001b[0;34m\u001b[0m\u001b[0m\n\u001b[0;32m----> 3\u001b[0;31m \u001b[0ms\u001b[0m \u001b[0;34m=\u001b[0m \u001b[0mturtle\u001b[0m\u001b[0;34m.\u001b[0m\u001b[0mgetscreen\u001b[0m\u001b[0;34m(\u001b[0m\u001b[0;34m)\u001b[0m\u001b[0;34m\u001b[0m\u001b[0;34m\u001b[0m\u001b[0m\n\u001b[0m",
      "\u001b[0;32m~/anaconda3/lib/python3.8/turtle.py\u001b[0m in \u001b[0;36mgetscreen\u001b[0;34m()\u001b[0m\n",
      "\u001b[0;32m~/anaconda3/lib/python3.8/turtle.py\u001b[0m in \u001b[0;36m__init__\u001b[0;34m(self, shape, undobuffersize, visible)\u001b[0m\n\u001b[1;32m   3810\u001b[0m                  visible=_CFG[\"visible\"]):\n\u001b[1;32m   3811\u001b[0m         \u001b[0;32mif\u001b[0m \u001b[0mTurtle\u001b[0m\u001b[0;34m.\u001b[0m\u001b[0m_screen\u001b[0m \u001b[0;32mis\u001b[0m \u001b[0;32mNone\u001b[0m\u001b[0;34m:\u001b[0m\u001b[0;34m\u001b[0m\u001b[0;34m\u001b[0m\u001b[0m\n\u001b[0;32m-> 3812\u001b[0;31m             \u001b[0mTurtle\u001b[0m\u001b[0;34m.\u001b[0m\u001b[0m_screen\u001b[0m \u001b[0;34m=\u001b[0m \u001b[0mScreen\u001b[0m\u001b[0;34m(\u001b[0m\u001b[0;34m)\u001b[0m\u001b[0;34m\u001b[0m\u001b[0;34m\u001b[0m\u001b[0m\n\u001b[0m\u001b[1;32m   3813\u001b[0m         RawTurtle.__init__(self, Turtle._screen,\n\u001b[1;32m   3814\u001b[0m                            \u001b[0mshape\u001b[0m\u001b[0;34m=\u001b[0m\u001b[0mshape\u001b[0m\u001b[0;34m,\u001b[0m\u001b[0;34m\u001b[0m\u001b[0;34m\u001b[0m\u001b[0m\n",
      "\u001b[0;32m~/anaconda3/lib/python3.8/turtle.py\u001b[0m in \u001b[0;36mScreen\u001b[0;34m()\u001b[0m\n\u001b[1;32m   3660\u001b[0m     else return the existing one.\"\"\"\n\u001b[1;32m   3661\u001b[0m     \u001b[0;32mif\u001b[0m \u001b[0mTurtle\u001b[0m\u001b[0;34m.\u001b[0m\u001b[0m_screen\u001b[0m \u001b[0;32mis\u001b[0m \u001b[0;32mNone\u001b[0m\u001b[0;34m:\u001b[0m\u001b[0;34m\u001b[0m\u001b[0;34m\u001b[0m\u001b[0m\n\u001b[0;32m-> 3662\u001b[0;31m         \u001b[0mTurtle\u001b[0m\u001b[0;34m.\u001b[0m\u001b[0m_screen\u001b[0m \u001b[0;34m=\u001b[0m \u001b[0m_Screen\u001b[0m\u001b[0;34m(\u001b[0m\u001b[0;34m)\u001b[0m\u001b[0;34m\u001b[0m\u001b[0;34m\u001b[0m\u001b[0m\n\u001b[0m\u001b[1;32m   3663\u001b[0m     \u001b[0;32mreturn\u001b[0m \u001b[0mTurtle\u001b[0m\u001b[0;34m.\u001b[0m\u001b[0m_screen\u001b[0m\u001b[0;34m\u001b[0m\u001b[0;34m\u001b[0m\u001b[0m\n\u001b[1;32m   3664\u001b[0m \u001b[0;34m\u001b[0m\u001b[0m\n",
      "\u001b[0;32m~/anaconda3/lib/python3.8/turtle.py\u001b[0m in \u001b[0;36m__init__\u001b[0;34m(self)\u001b[0m\n\u001b[1;32m   3676\u001b[0m         \u001b[0;31m# preserved (perhaps by passing it as an optional parameter)\u001b[0m\u001b[0;34m\u001b[0m\u001b[0;34m\u001b[0m\u001b[0;34m\u001b[0m\u001b[0m\n\u001b[1;32m   3677\u001b[0m         \u001b[0;32mif\u001b[0m \u001b[0m_Screen\u001b[0m\u001b[0;34m.\u001b[0m\u001b[0m_root\u001b[0m \u001b[0;32mis\u001b[0m \u001b[0;32mNone\u001b[0m\u001b[0;34m:\u001b[0m\u001b[0;34m\u001b[0m\u001b[0;34m\u001b[0m\u001b[0m\n\u001b[0;32m-> 3678\u001b[0;31m             \u001b[0m_Screen\u001b[0m\u001b[0;34m.\u001b[0m\u001b[0m_root\u001b[0m \u001b[0;34m=\u001b[0m \u001b[0mself\u001b[0m\u001b[0;34m.\u001b[0m\u001b[0m_root\u001b[0m \u001b[0;34m=\u001b[0m \u001b[0m_Root\u001b[0m\u001b[0;34m(\u001b[0m\u001b[0;34m)\u001b[0m\u001b[0;34m\u001b[0m\u001b[0;34m\u001b[0m\u001b[0m\n\u001b[0m\u001b[1;32m   3679\u001b[0m             \u001b[0mself\u001b[0m\u001b[0;34m.\u001b[0m\u001b[0m_root\u001b[0m\u001b[0;34m.\u001b[0m\u001b[0mtitle\u001b[0m\u001b[0;34m(\u001b[0m\u001b[0m_Screen\u001b[0m\u001b[0;34m.\u001b[0m\u001b[0m_title\u001b[0m\u001b[0;34m)\u001b[0m\u001b[0;34m\u001b[0m\u001b[0;34m\u001b[0m\u001b[0m\n\u001b[1;32m   3680\u001b[0m             \u001b[0mself\u001b[0m\u001b[0;34m.\u001b[0m\u001b[0m_root\u001b[0m\u001b[0;34m.\u001b[0m\u001b[0mondestroy\u001b[0m\u001b[0;34m(\u001b[0m\u001b[0mself\u001b[0m\u001b[0;34m.\u001b[0m\u001b[0m_destroy\u001b[0m\u001b[0;34m)\u001b[0m\u001b[0;34m\u001b[0m\u001b[0;34m\u001b[0m\u001b[0m\n",
      "\u001b[0;32m~/anaconda3/lib/python3.8/turtle.py\u001b[0m in \u001b[0;36m__init__\u001b[0;34m(self)\u001b[0m\n\u001b[1;32m    432\u001b[0m     \u001b[0;34m\"\"\"Root class for Screen based on Tkinter.\"\"\"\u001b[0m\u001b[0;34m\u001b[0m\u001b[0;34m\u001b[0m\u001b[0m\n\u001b[1;32m    433\u001b[0m     \u001b[0;32mdef\u001b[0m \u001b[0m__init__\u001b[0m\u001b[0;34m(\u001b[0m\u001b[0mself\u001b[0m\u001b[0;34m)\u001b[0m\u001b[0;34m:\u001b[0m\u001b[0;34m\u001b[0m\u001b[0;34m\u001b[0m\u001b[0m\n\u001b[0;32m--> 434\u001b[0;31m         \u001b[0mTK\u001b[0m\u001b[0;34m.\u001b[0m\u001b[0mTk\u001b[0m\u001b[0;34m.\u001b[0m\u001b[0m__init__\u001b[0m\u001b[0;34m(\u001b[0m\u001b[0mself\u001b[0m\u001b[0;34m)\u001b[0m\u001b[0;34m\u001b[0m\u001b[0;34m\u001b[0m\u001b[0m\n\u001b[0m\u001b[1;32m    435\u001b[0m \u001b[0;34m\u001b[0m\u001b[0m\n\u001b[1;32m    436\u001b[0m     \u001b[0;32mdef\u001b[0m \u001b[0msetupcanvas\u001b[0m\u001b[0;34m(\u001b[0m\u001b[0mself\u001b[0m\u001b[0;34m,\u001b[0m \u001b[0mwidth\u001b[0m\u001b[0;34m,\u001b[0m \u001b[0mheight\u001b[0m\u001b[0;34m,\u001b[0m \u001b[0mcwidth\u001b[0m\u001b[0;34m,\u001b[0m \u001b[0mcheight\u001b[0m\u001b[0;34m)\u001b[0m\u001b[0;34m:\u001b[0m\u001b[0;34m\u001b[0m\u001b[0;34m\u001b[0m\u001b[0m\n",
      "\u001b[0;32m~/anaconda3/lib/python3.8/tkinter/__init__.py\u001b[0m in \u001b[0;36m__init__\u001b[0;34m(self, screenName, baseName, className, useTk, sync, use)\u001b[0m\n\u001b[1;32m   2259\u001b[0m                 \u001b[0mbaseName\u001b[0m \u001b[0;34m=\u001b[0m \u001b[0mbaseName\u001b[0m \u001b[0;34m+\u001b[0m \u001b[0mext\u001b[0m\u001b[0;34m\u001b[0m\u001b[0;34m\u001b[0m\u001b[0m\n\u001b[1;32m   2260\u001b[0m         \u001b[0minteractive\u001b[0m \u001b[0;34m=\u001b[0m \u001b[0;36m0\u001b[0m\u001b[0;34m\u001b[0m\u001b[0;34m\u001b[0m\u001b[0m\n\u001b[0;32m-> 2261\u001b[0;31m         \u001b[0mself\u001b[0m\u001b[0;34m.\u001b[0m\u001b[0mtk\u001b[0m \u001b[0;34m=\u001b[0m \u001b[0m_tkinter\u001b[0m\u001b[0;34m.\u001b[0m\u001b[0mcreate\u001b[0m\u001b[0;34m(\u001b[0m\u001b[0mscreenName\u001b[0m\u001b[0;34m,\u001b[0m \u001b[0mbaseName\u001b[0m\u001b[0;34m,\u001b[0m \u001b[0mclassName\u001b[0m\u001b[0;34m,\u001b[0m \u001b[0minteractive\u001b[0m\u001b[0;34m,\u001b[0m \u001b[0mwantobjects\u001b[0m\u001b[0;34m,\u001b[0m \u001b[0museTk\u001b[0m\u001b[0;34m,\u001b[0m \u001b[0msync\u001b[0m\u001b[0;34m,\u001b[0m \u001b[0muse\u001b[0m\u001b[0;34m)\u001b[0m\u001b[0;34m\u001b[0m\u001b[0;34m\u001b[0m\u001b[0m\n\u001b[0m\u001b[1;32m   2262\u001b[0m         \u001b[0;32mif\u001b[0m \u001b[0museTk\u001b[0m\u001b[0;34m:\u001b[0m\u001b[0;34m\u001b[0m\u001b[0;34m\u001b[0m\u001b[0m\n\u001b[1;32m   2263\u001b[0m             \u001b[0mself\u001b[0m\u001b[0;34m.\u001b[0m\u001b[0m_loadtk\u001b[0m\u001b[0;34m(\u001b[0m\u001b[0;34m)\u001b[0m\u001b[0;34m\u001b[0m\u001b[0;34m\u001b[0m\u001b[0m\n",
      "\u001b[0;31mTclError\u001b[0m: no display name and no $DISPLAY environment variable"
     ]
    }
   ],
   "source": [
    "import turtle\n",
    "\n",
    "s = turtle.getscreen()"
   ]
  },
  {
   "cell_type": "code",
   "execution_count": null,
   "metadata": {},
   "outputs": [],
   "source": []
  }
 ],
 "metadata": {
  "kernelspec": {
   "display_name": "Python 3",
   "language": "python",
   "name": "python3"
  },
  "language_info": {
   "codemirror_mode": {
    "name": "ipython",
    "version": 3
   },
   "file_extension": ".py",
   "mimetype": "text/x-python",
   "name": "python",
   "nbconvert_exporter": "python",
   "pygments_lexer": "ipython3",
   "version": "3.8.3"
  }
 },
 "nbformat": 4,
 "nbformat_minor": 4
}
